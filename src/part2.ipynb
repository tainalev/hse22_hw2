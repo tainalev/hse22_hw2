{
 "cells": [
  {
   "cell_type": "markdown",
   "metadata": {
    "id": "WJ71oQTxShEj"
   },
   "source": [
    "# Копируем данные и устанавливаем программы"
   ]
  },
  {
   "cell_type": "markdown",
   "metadata": {},
   "source": [
    "Для корректности относительных путей следует запускать из папки data"
   ]
  },
  {
   "cell_type": "markdown",
   "metadata": {
    "id": "EkEflOHmCHHW"
   },
   "source": [
    "## Скачиваем геном близкородственной бактерии T.oleivorans"
   ]
  },
  {
   "cell_type": "markdown",
   "metadata": {
    "id": "noBYTW1bRH9O"
   },
   "source": [
    "Геном, последовательности генов (нт) и белков (протеом) для бактерии Thalassolituus oleivorans MIL-1\n",
    "https://www.ncbi.nlm.nih.gov/nuccore/HF680312"
   ]
  },
  {
   "cell_type": "code",
   "execution_count": 1,
   "metadata": {
    "colab": {
     "base_uri": "https://localhost:8080/"
    },
    "id": "bqv3FR5efmk6",
    "outputId": "ac376125-88cf-421b-e324-7cc21f9de5a4"
   },
   "outputs": [
    {
     "name": "stdout",
     "output_type": "stream",
     "text": [
      "\n",
      "Entrez Direct has been successfully downloaded and installed.\n",
      "\n",
      "In order to complete the configuration process, please execute the following:\n",
      "\n",
      "  echo \"export PATH=\\${PATH}:/root/edirect\" >> ${HOME}/.bashrc\n",
      "\n",
      "or manually edit the PATH variable assignment in your .bashrc file.\n",
      "\n",
      "Would you like to do that automatically now? [y/N]\n",
      "^C\n"
     ]
    }
   ],
   "source": [
    "!sh -c \"$(curl -fsSL ftp://ftp.ncbi.nlm.nih.gov/entrez/entrezdirect/install-edirect.sh)\""
   ]
  },
  {
   "cell_type": "code",
   "execution_count": 2,
   "metadata": {
    "id": "4O3-rUx4fvbw"
   },
   "outputs": [],
   "source": [
    "!$HOME/edirect/efetch -db nuccore -id HF680312 -format gb  >  T_oleivorans_MIL_1.gbk"
   ]
  },
  {
   "cell_type": "code",
   "execution_count": 3,
   "metadata": {
    "colab": {
     "base_uri": "https://localhost:8080/"
    },
    "id": "j2uga-mieSB6",
    "outputId": "af195b65-f515-4083-82f2-1db80ae446a4"
   },
   "outputs": [
    {
     "name": "stdout",
     "output_type": "stream",
     "text": [
      "Looking in indexes: https://pypi.org/simple, https://us-python.pkg.dev/colab-wheels/public/simple/\n",
      "Collecting biopython\n",
      "  Downloading biopython-1.79-cp37-cp37m-manylinux_2_17_x86_64.manylinux2014_x86_64.whl (2.6 MB)\n",
      "\u001b[K     |████████████████████████████████| 2.6 MB 33.8 MB/s \n",
      "\u001b[?25hRequirement already satisfied: numpy in /usr/local/lib/python3.7/dist-packages (from biopython) (1.21.6)\n",
      "Installing collected packages: biopython\n",
      "Successfully installed biopython-1.79\n"
     ]
    }
   ],
   "source": [
    "!pip install biopython"
   ]
  },
  {
   "cell_type": "markdown",
   "metadata": {
    "id": "EJIw_JDLUgt5"
   },
   "source": [
    "## Аннотация генома (пример)"
   ]
  },
  {
   "cell_type": "markdown",
   "metadata": {
    "id": "qhxlclhoYhBh"
   },
   "source": [
    "Biopython Tutorial: http://biopython.org/DIST/docs/tutorial/Tutorial.html"
   ]
  },
  {
   "cell_type": "code",
   "execution_count": 16,
   "metadata": {
    "colab": {
     "base_uri": "https://localhost:8080/"
    },
    "id": "G33GF-iGU9Ka",
    "outputId": "7a199ff1-9193-4912-c4fc-138a7bc64177"
   },
   "outputs": [
    {
     "name": "stdout",
     "output_type": "stream",
     "text": [
      "# GeneMark.hmm-2 LST format\n",
      "# GeneMark.hmm-2 prokaryotic version: 1.25_lic\n",
      "# File with sequence: scaffolds.fasta\n",
      "# File with native parameters: GMS2.mod\n",
      "# Native species name and build: unspecified GeneMarkS-2-1.14_1.25_lic\n",
      "# File with MetaGeneMark parameters: /content/gms2_linux_64/mgm_11.mod\n",
      "# translation table: 11\n",
      "# output date start: Thu Oct 20 21:18:59 2022\n",
      "\n",
      "# sequence-region 1 3830280\n",
      "SequenceID: scaffold1_len3830264_cov231\n",
      "     1   -    77    535     459 native ATGGAA 6 1\n",
      "     2   -    767    1585     819 native TTAGAG 6 1\n",
      "     3   +    1727    3106    1380 native CTGGCC 7 1\n",
      "     4   -    3133    3975     843 native GAGGAG 5 1\n",
      "     5   -    4082    6781    2700 native GAGCAA 8 1\n",
      "     6   -    6778    7557     780 native AAGGTC 11 1\n",
      "     7   +    7851    8597     747 native AAGGTA 6 1\n",
      "     8   +    8682    9536     855 native GAGGAA 7 1\n",
      "     9   +    9645    10376     732 native TTGGAG 7 1\n"
     ]
    }
   ],
   "source": [
    "!head -n 20 gms2.lst"
   ]
  },
  {
   "cell_type": "markdown",
   "metadata": {
    "id": "OKK4GsdqZPZ6"
   },
   "source": [
    "Для примера проаннотируем два коротких скаффолда (scaffold3_cov275 и scaffold9_cov256):\n",
    "\n"
   ]
  },
  {
   "cell_type": "code",
   "execution_count": 6,
   "metadata": {
    "id": "1hegJvwMIiPe"
   },
   "outputs": [],
   "source": [
    "from Bio import SeqIO\n",
    "\n",
    "record_data = {}\n",
    "for record in SeqIO.parse(\"/content/scaffolds.fasta\", \"fasta\"):\n",
    "    record.annotations['molecule_type'] = 'DNA'\n",
    "    record_data[record.id] = record"
   ]
  },
  {
   "cell_type": "code",
   "execution_count": 9,
   "metadata": {
    "colab": {
     "base_uri": "https://localhost:8080/"
    },
    "id": "4mv05veKXHWo",
    "outputId": "39d677ec-84ff-4064-b124-ce2674411ae2"
   },
   "outputs": [
    {
     "name": "stderr",
     "output_type": "stream",
     "text": [
      "/usr/local/lib/python3.7/dist-packages/Bio/SeqIO/InsdcIO.py:730: BiopythonWarning: Increasing length of locus line to allow long name. This will result in fields that are not in usual positions.\n",
      "  BiopythonWarning,\n"
     ]
    },
    {
     "data": {
      "text/plain": [
       "71"
      ]
     },
     "execution_count": 9,
     "metadata": {},
     "output_type": "execute_result"
    }
   ],
   "source": [
    "SeqIO.write(record_data.values(), \"GENOME.gbk\", \"genbank\")"
   ]
  },
  {
   "cell_type": "markdown",
   "metadata": {
    "id": "nuikKeO1bL7N"
   },
   "source": [
    "## Добавляем координаты генов"
   ]
  },
  {
   "cell_type": "markdown",
   "metadata": {
    "id": "lR-FjFgRba09"
   },
   "source": [
    "```\n",
    "SequenceID: scaffold3_cov275\n",
    "  3535   -    30    1001     972 atypical GTCGAG 5 1\n",
    "  3536   -    1350    2192     843 native AAAGTG 7 1\n",
    "  3537   +    2304    2507     204 native GCGGAG 7 1\n",
    "  3538   -    2554    2751     198 native TAAGTA 7 1\n",
    "  3539   +    2855    3265     411 native TCGGTC 6 1\n",
    "```"
   ]
  },
  {
   "cell_type": "code",
   "execution_count": 77,
   "metadata": {
    "id": "OO-MmmzIZlaw"
   },
   "outputs": [],
   "source": [
    "import pandas as pd\n",
    "import io\n",
    "\n",
    "def parse_gene_start(string):\n",
    "    return int(str(string).replace(\"<\", \"\"))\n",
    "\n",
    "def parse_gene_end(string):\n",
    "    return int(str(string).replace(\">\", \"\"))\n",
    "\n",
    "def parse_lst_file(filename):\n",
    "    with open(filename, \"r\") as f:\n",
    "        content = f.read()\n",
    "\n",
    "    result = {}\n",
    "    blocks = content.split(\"\\n\\n\")\n",
    "    for block_i, block in enumerate(blocks):\n",
    "        lines = block.split(\"\\n\")\n",
    "        if lines[0].startswith(\"# sequence-region\"):\n",
    "            sequence_id = lines[1].replace(\"SequenceID: \", \"\")\n",
    "            table_lines = lines[2:-1]\n",
    "            if len(table_lines) == 0:\n",
    "                result[sequence_id] = None\n",
    "                continue\n",
    "            table_content = \"\\n\".join(table_lines)\n",
    "            df = pd.read_csv(io.StringIO(table_content), header=None, sep=\"\\s+\", names=['LocusTag', 'Strand', 'Start', 'End', 'Length', 'Type', 'Data1', 'Data2', 'Data3'])\n",
    "            df[\"Start\"] = df[\"Start\"].apply(parse_gene_start)\n",
    "            df[\"End\"] = df[\"End\"].apply(parse_gene_end)\n",
    "            df[\"LocusTag\"] = df[\"LocusTag\"].apply(int)\n",
    "            df[\"Strand\"] = df[\"Strand\"].apply(lambda string: 1 if string == \"+\" else -1)\n",
    "            df[\"Length\"] = df[\"Length\"].apply(int)\n",
    "            result[sequence_id] = df\n",
    "    return result\n"
   ]
  },
  {
   "cell_type": "code",
   "execution_count": 82,
   "metadata": {
    "id": "itNiV7ldaND2"
   },
   "outputs": [],
   "source": [
    "lst_data = parse_lst_file(\"gms2.lst\")"
   ]
  },
  {
   "cell_type": "code",
   "execution_count": 108,
   "metadata": {
    "id": "jWd47bD_jn8X"
   },
   "outputs": [],
   "source": [
    "mil_data = pd.read_csv(\"scaffolds.hits_from_MIL_1.txt\", sep=\"\\s+\", names=\"qseqid, sseqid, pident, length, mismatch, gapopen, qstart, qend, sstart, send, evalue, bitscore\".split(\", \"))\n",
    "mil_data[\"CCU\"] = mil_data[\"sseqid\"].apply(lambda string: string.split(\"_\")[2] if string.split(\"_\")[2].startswith(\"CCU\") else None)\n",
    "\n",
    "def get_mil_best_matching_protein(locus_tag):\n",
    "    hits = mil_data[mil_data[\"qseqid\"] == locus_tag]\n",
    "    if hits.empty:\n",
    "        return None\n",
    "    return mil_data.iloc[hits['evalue'].idxmin()][\"CCU\"]\n",
    "\n",
    "mil_1_genome = SeqIO.read(\"/content/T_oleivorans_MIL_1.gbk\", \"genbank\")\n",
    "\n",
    "mil_protein_data = {}\n",
    "for mil_f in mil_1_genome.features:\n",
    "    if 'protein_id' not in mil_f.qualifiers:\n",
    "        continue\n",
    "    mil_protein_data[mil_f.qualifiers['protein_id'][0]] = mil_f.qualifiers['product']"
   ]
  },
  {
   "cell_type": "code",
   "execution_count": 117,
   "metadata": {
    "id": "X5SltQdQpPP5"
   },
   "outputs": [],
   "source": [
    "swissprot_data = pd.read_csv(\"scaffolds.hits_from_SwissProt.txt\", sep=\"\\s+\", names=\"qseqid, sseqid, pident, length, mismatch, gapopen, qstart, qend, sstart, send, evalue, bitscore\".split(\", \"))\n",
    "swissprot_data[\"ProteinID\"] = swissprot_data[\"sseqid\"].apply(lambda string: string.split(\"|\")[2])\n",
    "\n",
    "def get_swissprot_best_matching_protein(locus_tag):\n",
    "    hits = swissprot_data[swissprot_data[\"qseqid\"] == locus_tag]\n",
    "    if hits.empty:\n",
    "        return None\n",
    "    row = swissprot_data.iloc[hits['evalue'].idxmin()]\n",
    "    return row[\"ProteinID\"], row[\"evalue\"]"
   ]
  },
  {
   "cell_type": "code",
   "execution_count": 119,
   "metadata": {
    "colab": {
     "base_uri": "https://localhost:8080/"
    },
    "id": "4cXKMhtmYZ9t",
    "outputId": "76b4b36b-2ca2-401d-d27e-267f6409189e"
   },
   "outputs": [
    {
     "name": "stderr",
     "output_type": "stream",
     "text": [
      "/usr/local/lib/python3.7/dist-packages/Bio/SeqIO/InsdcIO.py:730: BiopythonWarning: Increasing length of locus line to allow long name. This will result in fields that are not in usual positions.\n",
      "  BiopythonWarning,\n"
     ]
    },
    {
     "name": "stdout",
     "output_type": "stream",
     "text": [
      "Всего генов 3569\n",
      "Проаннотировали через родственную бактерию 3275\n",
      "Проаннотировали через swissprot 53\n",
      "Не удалось проаннотировать 241\n"
     ]
    }
   ],
   "source": [
    "from pprint import pprint\n",
    "from Bio.SeqFeature import SeqFeature, FeatureLocation\n",
    "\n",
    "# Аминокислотные последовательности\n",
    "protein_data = {}\n",
    "for record in SeqIO.parse(\"proteins.fasta\", \"fasta\"):\n",
    "    protein_data[int(record.id)] = record\n",
    "\n",
    "class FeatureCreator:\n",
    "    def __init__(self):\n",
    "        self.genes_counter = 0\n",
    "        self.genes_mil_counter = 0\n",
    "        self.genes_swissprot_counter = 0\n",
    "        self.genes_not_found = 0\n",
    "\n",
    "    def create_feature_from_table_row(self, row):\n",
    "        feature = SeqFeature(FeatureLocation(row[\"Start\"], row[\"End\"], strand=row[\"Strand\"]), type=\"CDS\")\n",
    "        locus_tag = row[\"LocusTag\"]\n",
    "        feature.qualifiers['locus_tag'] = [locus_tag]\n",
    "\n",
    "        self.genes_counter += 1\n",
    "\n",
    "        if locus_tag in protein_data:\n",
    "            protein_sequence = protein_data[locus_tag]\n",
    "            feature.qualifiers['translation'] = [protein_sequence.seq]\n",
    "        \n",
    "        mil_best_ccu = get_mil_best_matching_protein(locus_tag)\n",
    "        if mil_best_ccu:\n",
    "            self.genes_mil_counter += 1\n",
    "            feature.qualifiers['note'] = [mil_best_ccu]\n",
    "            feature.qualifiers['product'] = mil_protein_data[mil_best_ccu]\n",
    "        else:\n",
    "            swiss_best_protein_id_e = get_swissprot_best_matching_protein(locus_tag)\n",
    "            if swiss_best_protein_id_e:\n",
    "                self.genes_swissprot_counter += 1\n",
    "                feature.qualifiers['product'] = f'Similar to SwissProt protein {swiss_best_protein_id_e[0]} (E-value = {swiss_best_protein_id_e[1]})'\n",
    "            else:\n",
    "                self.genes_not_found += 1\n",
    "        return feature\n",
    "\n",
    "    def run(self):\n",
    "        for record_id, record in record_data.items():\n",
    "            record_genes = lst_data[record_id]\n",
    "            if record_genes is None:\n",
    "                continue\n",
    "            \n",
    "            features = record_genes.apply(self.create_feature_from_table_row, axis=1)\n",
    "            record.features = list(features)\n",
    "        SeqIO.write(record_data.values(), \"GENOME.gbk\", \"genbank\")\n",
    "        print(\"Всего генов\", self.genes_counter)\n",
    "        print(\"Проаннотировали через родственную бактерию\", self.genes_mil_counter)\n",
    "        print(\"Проаннотировали через swissprot\", self.genes_swissprot_counter)\n",
    "        print(\"Не удалось проаннотировать\", self.genes_not_found)\n",
    "f = FeatureCreator()\n",
    "f.run()"
   ]
  },
  {
   "cell_type": "markdown",
   "metadata": {
    "id": "Pr5GctSQxlsQ"
   },
   "source": [
    "## Добавляем функции белков (из БД SwissProt)"
   ]
  },
  {
   "cell_type": "markdown",
   "metadata": {
    "id": "xLafv2r8xo6P"
   },
   "source": [
    "Читаем информацию из файла scaffolds.hits_from_SwissProt.txt"
   ]
  },
  {
   "cell_type": "code",
   "execution_count": 113,
   "metadata": {
    "colab": {
     "base_uri": "https://localhost:8080/"
    },
    "id": "_bHOMEqhxvDd",
    "outputId": "092fd9e5-211d-42a3-f74a-60e4171b5b39"
   },
   "outputs": [
    {
     "name": "stdout",
     "output_type": "stream",
     "text": [
      "197\tsp|P44152|T1SH_HAEIN\t30.400\t250\t153\t6\t39\t282\t29\t263\t2.07e-12\t73.2\n",
      "198\tsp|O51040|Y007_BORBU\t27.698\t278\t164\t12\t6\t259\t9\t273\t1.53e-17\t83.6\n",
      "253\tsp|P39979|HPA3_YEAST\t31.081\t148\t99\t2\t3\t148\t14\t160\t1.76e-12\t64.3\n",
      "656\tsp|P27278|NADR_ECOLI\t27.554\t323\t177\t13\t11\t308\t67\t357\t3.58e-15\t79.7\n",
      "656\tsp|P24518|NADR_SALTY\t27.864\t323\t176\t13\t11\t308\t67\t357\t4.19e-15\t79.3\n",
      "656\tsp|P44308|NADR_HAEIN\t25.806\t310\t200\t9\t11\t308\t61\t352\t1.57e-14\t77.8\n",
      "932\tsp|P9WHG7|PARE1_MYCTU\t36.957\t92\t58\t0\t2\t93\t3\t94\t7.55e-21\t82.0\n",
      "932\tsp|P9WHG6|PARE1_MYCTO\t36.957\t92\t58\t0\t2\t93\t3\t94\t7.55e-21\t82.0\n",
      "932\tsp|Q9A9T8|PARE1_CAUVC\t32.609\t92\t60\t1\t1\t92\t1\t90\t5.73e-16\t69.7\n",
      "933\tsp|P58093|PARD_VIBCH\t66.667\t78\t26\t0\t1\t78\t1\t78\t6.77e-32\t108\n"
     ]
    }
   ],
   "source": [
    "!head scaffolds.hits_from_SwissProt.txt"
   ]
  },
  {
   "cell_type": "markdown",
   "metadata": {
    "id": "UykENPFgyIQu"
   },
   "source": [
    "product = 'Similar to SwissProt protein Y1178_METJA (E-value = 2.95e-28)'"
   ]
  },
  {
   "cell_type": "markdown",
   "metadata": {
    "id": "HWWUeHCdyAdb"
   },
   "source": [
    "Получить функции белков SwissProt из файла: https://ftp.uniprot.org/pub/databases/uniprot/current_release/knowledgebase/complete/uniprot_sprot.dat.gz"
   ]
  },
  {
   "cell_type": "code",
   "execution_count": 120,
   "metadata": {
    "colab": {
     "base_uri": "https://localhost:8080/"
    },
    "id": "tTRJ0KfnWIdt",
    "outputId": "e23d345f-8b14-447f-fb2d-63541b7bfebe"
   },
   "outputs": [
    {
     "name": "stdout",
     "output_type": "stream",
     "text": [
      "--2022-10-20 23:13:14--  https://ftp.uniprot.org/pub/databases/uniprot/current_release/knowledgebase/complete/uniprot_sprot.dat.gz\n",
      "Resolving ftp.uniprot.org (ftp.uniprot.org)... 128.175.240.195\n",
      "Connecting to ftp.uniprot.org (ftp.uniprot.org)|128.175.240.195|:443... connected.\n",
      "HTTP request sent, awaiting response... 200 OK\n",
      "Length: 642093634 (612M) [application/x-gzip]\n",
      "Saving to: ‘uniprot_sprot.dat.gz’\n",
      "\n",
      "uniprot_sprot.dat.g 100%[===================>] 612.35M  42.6MB/s    in 7.0s    \n",
      "\n",
      "2022-10-20 23:13:21 (87.5 MB/s) - ‘uniprot_sprot.dat.gz’ saved [642093634/642093634]\n",
      "\n"
     ]
    }
   ],
   "source": [
    "!wget https://ftp.uniprot.org/pub/databases/uniprot/current_release/knowledgebase/complete/uniprot_sprot.dat.gz"
   ]
  },
  {
   "cell_type": "code",
   "execution_count": 121,
   "metadata": {
    "id": "_7n4ZxdjWPxH"
   },
   "outputs": [],
   "source": [
    "!gzip -d uniprot_sprot.dat.gz"
   ]
  },
  {
   "cell_type": "code",
   "execution_count": 122,
   "metadata": {
    "colab": {
     "base_uri": "https://localhost:8080/"
    },
    "id": "-nbARM7PWy3z",
    "outputId": "a0115d67-523d-44c3-a984-76899f140070"
   },
   "outputs": [
    {
     "name": "stdout",
     "output_type": "stream",
     "text": [
      "AC   Q55EH8;\n",
      "DR   AlphaFoldDB; Q55EH8; -.\n",
      "DR   SMR; Q55EH8; -.\n",
      "DR   PaxDb; Q55EH8; -.\n",
      "DR   InParanoid; Q55EH8; -.\n",
      "DR   PhylomeDB; Q55EH8; -.\n",
      "DR   PRO; PR:Q55EH8; -.\n"
     ]
    }
   ],
   "source": [
    "!grep Q55EH8 uniprot_sprot.dat"
   ]
  },
  {
   "cell_type": "code",
   "execution_count": null,
   "metadata": {
    "id": "Noc6ixevrLib"
   },
   "outputs": [],
   "source": []
  }
 ],
 "metadata": {
  "colab": {
   "collapsed_sections": [
    "nuikKeO1bL7N",
    "ed-CWFY3cZK0",
    "D2UNiwEyet54",
    "Pr5GctSQxlsQ"
   ],
   "provenance": []
  },
  "kernelspec": {
   "display_name": "Python 3 (ipykernel)",
   "language": "python",
   "name": "python3"
  },
  "language_info": {
   "codemirror_mode": {
    "name": "ipython",
    "version": 3
   },
   "file_extension": ".py",
   "mimetype": "text/x-python",
   "name": "python",
   "nbconvert_exporter": "python",
   "pygments_lexer": "ipython3",
   "version": "3.10.6"
  }
 },
 "nbformat": 4,
 "nbformat_minor": 1
}
